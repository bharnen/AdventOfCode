{
 "cells": [
  {
   "cell_type": "code",
   "execution_count": 31,
   "metadata": {},
   "outputs": [],
   "source": [
    "class MatrixOperator:\n",
    "    \n",
    "    def __init__(self, data):\n",
    "        self.list = self.parseData(data)\n",
    "    \n",
    "    \n",
    "    def parseData(self, data):\n",
    "        l = []\n",
    "        tmp = ''\n",
    "        ans = []\n",
    "        for x in range(0, len(data)):\n",
    "            cur = data[x]\n",
    "            if (cur != '\\t' and cur != ' ' and cur != '\\n'):\n",
    "                tmp += cur\n",
    "            elif (cur == '\\t'):\n",
    "                l.append(int(tmp))\n",
    "                tmp = ''\n",
    "            elif (cur == '\\n'):\n",
    "                l.append(int(tmp))\n",
    "                ans.append(l)\n",
    "                tmp = ''\n",
    "                l = []\n",
    "            else:\n",
    "                continue\n",
    "        if (tmp != ''):\n",
    "            l.append(int(tmp))\n",
    "        if (l != []):\n",
    "            ans.append(l)\n",
    "        return ans\n",
    "    \n",
    "    def checkSum(self):\n",
    "        sum = 0\n",
    "        for i in range(0,len(self.list)):\n",
    "            r = self.processRow(i)\n",
    "            sum += int(r)\n",
    "        return sum\n",
    "    \n",
    "    def processRow(self, r):\n",
    "        row = self.list[r]\n",
    "        min = row[0]\n",
    "        max = row[0]\n",
    "        for i in range(0,len(row)):\n",
    "            cur = row[i]\n",
    "            if min > cur:\n",
    "                min = cur\n",
    "            if max < cur:\n",
    "                max = cur\n",
    "        return max - min\n",
    "    \n",
    "    \n",
    "    \n",
    "    def contents(self):\n",
    "        for x in range(0, len(self.list)):\n",
    "            print(str(self.list[x]))\n",
    "            \n",
    "      \n",
    "    \n",
    "    \n",
    "    \n",
    "    \n",
    "    # PART 2\n",
    "    \n",
    "    def divisibleNums(self, r):\n",
    "        row = self.list[r]\n",
    "        for i in range(0,len(row)):\n",
    "            cur = row[i]\n",
    "            if (i+1 == len(row)):\n",
    "                print(\"No divisible nums found on row: \" + str(r))\n",
    "                return [0,0]\n",
    "            for j in range(i+1,len(row)):\n",
    "                tester = row[j]\n",
    "                val = max(cur,tester) % min(cur,tester)\n",
    "                if (val == 0):\n",
    "                    return [cur,tester]\n",
    "                \n",
    "    def sumDivisibles(self):\n",
    "        sum = 0\n",
    "        for i in range(0,len(self.list)):\n",
    "            a, b = self.divisibleNums(i)\n",
    "            key = max(a,b) / min(a,b)\n",
    "            sum += key\n",
    "        return sum\n",
    "        \n",
    "        "
   ]
  },
  {
   "cell_type": "code",
   "execution_count": 32,
   "metadata": {
    "collapsed": true
   },
   "outputs": [],
   "source": [
    "data = '''62\t1649\t1731\t76\t51\t1295\t349\t719\t52\t1984\t2015\t2171\t981\t1809\t181\t1715\n",
    "161\t99\t1506\t1658\t84\t78\t533\t242\t1685\t86\t107\t1548\t670\t960\t1641\t610\n",
    "95\t2420\t2404\t2293\t542\t2107\t2198\t121\t109\t209\t2759\t1373\t1446\t905\t1837\t111\n",
    "552\t186\t751\t527\t696\t164\t114\t530\t558\t307\t252\t200\t481\t142\t205\t479\n",
    "581\t1344\t994\t1413\t120\t112\t656\t1315\t1249\t193\t1411\t1280\t110\t103\t74\t1007\n",
    "2536\t5252\t159\t179\t4701\t1264\t1400\t2313\t4237\t161\t142\t4336\t1061\t3987\t2268\t4669\n",
    "3270\t1026\t381\t185\t293\t3520\t1705\t1610\t3302\t628\t3420\t524\t3172\t244\t295\t39\n",
    "4142\t1835\t4137\t3821\t3730\t2094\t468\t141\t150\t3982\t147\t4271\t1741\t2039\t4410\t179\n",
    "1796\t83\t2039\t1252\t84\t1641\t2165\t1218\t1936\t335\t1807\t2268\t66\t102\t1977\t2445\n",
    "96\t65\t201\t275\t257\t282\t233\t60\t57\t200\t216\t134\t72\t105\t81\t212\n",
    "3218\t5576\t5616\t5253\t178\t3317\t6147\t5973\t2424\t274\t4878\t234\t200\t4781\t5372\t276\n",
    "4171\t2436\t134\t3705\t3831\t3952\t2603\t115\t660\t125\t610\t152\t4517\t587\t1554\t619\n",
    "2970\t128\t2877\t1565\t1001\t167\t254\t2672\t59\t473\t2086\t181\t1305\t162\t1663\t2918\n",
    "271\t348\t229\t278\t981\t1785\t2290\t516\t473\t2037\t737\t2291\t2521\t1494\t1121\t244\n",
    "2208\t2236\t1451\t621\t1937\t1952\t865\t61\t1934\t49\t1510\t50\t1767\t59\t194\t1344\n",
    "94\t2312\t2397\t333\t1192\t106\t2713\t2351\t2650\t2663\t703\t157\t89\t510\t1824\t125'''\n",
    "\n",
    "\n",
    "a = MatrixOperator(data)\n"
   ]
  },
  {
   "cell_type": "markdown",
   "metadata": {},
   "source": [
    "# PART 1"
   ]
  },
  {
   "cell_type": "code",
   "execution_count": null,
   "metadata": {},
   "outputs": [],
   "source": [
    "\n",
    "\n",
    "\n",
    "\n",
    "print(str(a.checkSum()))\n",
    "\n"
   ]
  },
  {
   "cell_type": "markdown",
   "metadata": {},
   "source": [
    "# PART 2"
   ]
  },
  {
   "cell_type": "code",
   "execution_count": 33,
   "metadata": {},
   "outputs": [
    {
     "name": "stdout",
     "output_type": "stream",
     "text": [
      "320.0\n"
     ]
    }
   ],
   "source": [
    "\n",
    "\n",
    "print(a.sumDivisibles())\n",
    "\n",
    "\n"
   ]
  }
 ],
 "metadata": {
  "kernelspec": {
   "display_name": "Python 3",
   "language": "python",
   "name": "python3"
  },
  "language_info": {
   "codemirror_mode": {
    "name": "ipython",
    "version": 3
   },
   "file_extension": ".py",
   "mimetype": "text/x-python",
   "name": "python",
   "nbconvert_exporter": "python",
   "pygments_lexer": "ipython3",
   "version": "3.6.3"
  }
 },
 "nbformat": 4,
 "nbformat_minor": 2
}
