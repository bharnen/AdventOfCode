{
 "cells": [
  {
   "cell_type": "markdown",
   "metadata": {},
   "source": [
    "# PART 1"
   ]
  },
  {
   "cell_type": "code",
   "execution_count": 172,
   "metadata": {},
   "outputs": [
    {
     "name": "stdout",
     "output_type": "stream",
     "text": [
      "438.0\n"
     ]
    }
   ],
   "source": [
    "\n",
    "\n",
    "class SpiralMemory:\n",
    "    \n",
    "    def __init__(self, num):\n",
    "        self.n = int(num)\n",
    "        self.dimension = self.determineSize()\n",
    "        self.half = (self.dimension-1)/2\n",
    "        self.distance = self.dimension * self.dimension - self.n\n",
    "        self.corners = self.getCorners()\n",
    "        #print(\"dim: \" + str(self.dimension) + \" dist: \" + str(self.distance))\n",
    "        \n",
    "    def determineSize(self):\n",
    "        i = 1\n",
    "        while self.n > i*i:\n",
    "            i += 2\n",
    "        return i\n",
    "    \n",
    "    def getCorners(self):\n",
    "        corners = []\n",
    "        key = self.dimension * self.dimension\n",
    "        corners.append(key)\n",
    "        corners.append(key - (self.dimension))\n",
    "        corners.append(key - (self.dimension*2))\n",
    "        corners.append(key - (self.dimension*3))\n",
    "        return corners\n",
    "\n",
    "    \n",
    "    def findQuadrant(self):\n",
    "        #print(\"---\"+str((self.dimension*3 -3) + self.half))\n",
    "        if self.distance < self.half or self.distance > (self.dimension*3 -3) + self.half:\n",
    "            return 4\n",
    "        if self.distance < self.dimension + self.half:\n",
    "            return 3\n",
    "        if self.distance < (self.dimension*2-2) + self.half:\n",
    "            return 1\n",
    "        if self.distance <= (self.dimension*3-3) + self.half:\n",
    "            return 2\n",
    "        \n",
    "    def middleDistance(self, q):\n",
    "        if q==4:\n",
    "            num = self.distance - (self.dimension*4-4)\n",
    "            if self.distance < self.half:\n",
    "                return self.half - self.distance\n",
    "            else:\n",
    "                return num\n",
    "        if q==3:\n",
    "            num = self.distance - self.half -1\n",
    "            if self.distance < self.dimension:\n",
    "                return num\n",
    "            else:                \n",
    "                return self.dimension - num\n",
    "        if q==1:\n",
    "            num = self.distance - (self.dimension*2 -2)\n",
    "            if self.distance < (self.dimension*2 -2):\n",
    "                return num\n",
    "            else:                 \n",
    "                return self.half - num\n",
    "        if q==2:\n",
    "            num = self.distance - (self.dimension*3 -3)\n",
    "            if self.distance < (self.dimension*3 -3):\n",
    "                return num\n",
    "            else:\n",
    "                return self.half - num\n",
    "        \n",
    "                \n",
    "            \n",
    "            \n",
    "\n",
    "        \n",
    "    def solve(self):\n",
    "        if self.n in self.corners:\n",
    "            return (self.dimension-1)\n",
    "        quad = self.findQuadrant()\n",
    "        ans = self.middleDistance(quad)\n",
    "        #print(\"corner dist: \" + str(ans))\n",
    "        return ans+self.half\n",
    "\n",
    "    \n",
    "a = SpiralMemory(265149)\n",
    "print(str(a.solve()))\n",
    "\n",
    "\n",
    "\n"
   ]
  },
  {
   "cell_type": "code",
   "execution_count": null,
   "metadata": {
    "collapsed": true
   },
   "outputs": [],
   "source": [
    "1088\n",
    "\n",
    "                                          * ______________________________________\n",
    "                                        1024|  /\\                                |\n",
    "                                            |  33                                |\n",
    "                                            |  \\/         <------->              |\n",
    "                                            |_________________33_________________|\n",
    "                                        1056                                      1089 <--- 33 * 33\n"
   ]
  },
  {
   "cell_type": "markdown",
   "metadata": {},
   "source": [
    "# PART 2"
   ]
  },
  {
   "cell_type": "code",
   "execution_count": null,
   "metadata": {
    "collapsed": true
   },
   "outputs": [],
   "source": []
  }
 ],
 "metadata": {
  "kernelspec": {
   "display_name": "Python 3",
   "language": "python",
   "name": "python3"
  },
  "language_info": {
   "codemirror_mode": {
    "name": "ipython",
    "version": 3
   },
   "file_extension": ".py",
   "mimetype": "text/x-python",
   "name": "python",
   "nbconvert_exporter": "python",
   "pygments_lexer": "ipython3",
   "version": "3.6.3"
  }
 },
 "nbformat": 4,
 "nbformat_minor": 2
}
